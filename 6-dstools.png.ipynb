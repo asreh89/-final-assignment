{
 "cells": [
  {
   "cell_type": "markdown",
   "id": "ead72ccb-d320-44f1-87c6-5af0cd4e91d9",
   "metadata": {},
   "source": [
    "## Data Science Tools\n",
    "\n",
    "Here is a table of some widely used tools in data science:\n",
    "\n",
    "| Tool               | Description                                                                 | Primary Use Cases                                |\n",
    "|--------------------|-----------------------------------------------------------------------------|--------------------------------------------------|\n",
    "| **Jupyter Notebook**| An open-source web application for creating and sharing documents that contain live code, equations, and visualizations. | Interactive development, data visualization, documentation |\n",
    "| **RStudio**         | An integrated development environment (IDE) for R programming.              | Statistical computing, data visualization         |\n",
    "| **Apache Hadoop**   | A framework that allows for the distributed storage and processing of large datasets. | Big data processing, distributed computing       |\n",
    "| **Apache Spark**    | A unified analytics engine for large-scale data processing, often faster than Hadoop. | Big data, real-time analytics                    |\n",
    "| **Tableau**         | A powerful data visualization tool for transforming data into interactive dashboards. | Data visualization, business intelligence        |\n",
    "| **Power BI**        | A business analytics service by Microsoft, providing interactive visualizations and business intelligence capabilities. | Data visualization, business intelligence        |\n",
    "| **Google BigQuery** | A serverless, highly scalable, and cost-effective multi-cloud data warehouse. | Big data analytics, cloud-based data analysis     |\n",
    "| **KNIME**           | An open-source platform for data analytics, reporting, and integration.     | Data mining, data analysis, machine learning      |\n",
    "| **DataRobot**       | An automated machine learning platform that enables the creation of accurate predictive models without complex coding. | Automated machine learning, predictive modeling   |\n"
   ]
  },
  {
   "cell_type": "code",
   "execution_count": null,
   "id": "13161e1a-a09d-4f9a-84e0-b2e936e5fcec",
   "metadata": {},
   "outputs": [],
   "source": []
  }
 ],
 "metadata": {
  "kernelspec": {
   "display_name": "Python",
   "language": "python",
   "name": "conda-env-python-py"
  },
  "language_info": {
   "codemirror_mode": {
    "name": "ipython",
    "version": 3
   },
   "file_extension": ".py",
   "mimetype": "text/x-python",
   "name": "python",
   "nbconvert_exporter": "python",
   "pygments_lexer": "ipython3",
   "version": "3.7.12"
  }
 },
 "nbformat": 4,
 "nbformat_minor": 5
}
