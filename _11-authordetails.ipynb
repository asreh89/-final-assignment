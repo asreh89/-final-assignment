{
 "cells": [
  {
   "cell_type": "markdown",
   "id": "18b55bbb-b753-482b-aeec-1740da5dd812",
   "metadata": {},
   "source": [
    "## Author\n",
    "\n",
    "**Joseph Badibanga**  \n",
    "Data Science Enthusiast and International Business Network Developer  \n"
   ]
  },
  {
   "cell_type": "code",
   "execution_count": null,
   "id": "be14ebb8-87fb-491f-896f-6b829871dc82",
   "metadata": {},
   "outputs": [],
   "source": []
  }
 ],
 "metadata": {
  "kernelspec": {
   "display_name": "Python",
   "language": "python",
   "name": "conda-env-python-py"
  },
  "language_info": {
   "codemirror_mode": {
    "name": "ipython",
    "version": 3
   },
   "file_extension": ".py",
   "mimetype": "text/x-python",
   "name": "python",
   "nbconvert_exporter": "python",
   "pygments_lexer": "ipython3",
   "version": "3.7.12"
  }
 },
 "nbformat": 4,
 "nbformat_minor": 5
}
