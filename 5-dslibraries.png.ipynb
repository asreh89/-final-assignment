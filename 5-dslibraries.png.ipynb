{
 "cells": [
  {
   "cell_type": "markdown",
   "id": "3bc92cd6-f980-41db-b463-703fa06e42b6",
   "metadata": {},
   "source": [
    "## Data Science Libraries\n",
    "\n",
    "Here are some of the most popular libraries used in data science:\n",
    "\n",
    "1. **Pandas** - A powerful library for data manipulation and analysis, providing data structures like DataFrames.\n",
    "2. **NumPy** - Offers support for large multi-dimensional arrays and matrices, along with a wide range of mathematical functions.\n",
    "3. **Matplotlib** - A plotting library used for creating static, interactive, and animated visualizations in Python.\n",
    "4. **Seaborn** - Built on top of Matplotlib, Seaborn is used for making attractive and informative statistical graphics.\n",
    "5. **Scikit-learn** - A robust machine learning library for classification, regression, clustering, and dimensionality reduction.\n",
    "6. **TensorFlow** - An open-source platform for machine learning and deep learning developed by Google.\n",
    "7. **Keras** - A high-level neural networks API, written in Python and capable of running on top of TensorFlow.\n",
    "8. **PyTorch** - An open-source machine learning library developed by Facebook's AI Research lab, widely used for deep learning tasks.\n",
    "9. **SciPy** - Used for scientific computing and technical computing, extending NumPy with additional modules for optimization, integration, and statistics.\n",
    "10. **NLTK** - The Natural Language Toolkit is a leading platform for building Python programs that work with human language data.\n"
   ]
  },
  {
   "cell_type": "code",
   "execution_count": null,
   "id": "8ea429a7-9877-4522-bebe-168682ff78ae",
   "metadata": {},
   "outputs": [],
   "source": []
  }
 ],
 "metadata": {
  "kernelspec": {
   "display_name": "Python",
   "language": "python",
   "name": "conda-env-python-py"
  },
  "language_info": {
   "codemirror_mode": {
    "name": "ipython",
    "version": 3
   },
   "file_extension": ".py",
   "mimetype": "text/x-python",
   "name": "python",
   "nbconvert_exporter": "python",
   "pygments_lexer": "ipython3",
   "version": "3.7.12"
  }
 },
 "nbformat": 4,
 "nbformat_minor": 5
}
