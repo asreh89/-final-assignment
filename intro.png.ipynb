{
 "cells": [
  {
   "cell_type": "markdown",
   "id": "7eb8a71d-f852-4f93-9bbb-40243b173908",
   "metadata": {},
   "source": [
    "## Introduction\n",
    "\n",
    "In today's globalized economy, building an international business network is essential for long-term success. "
   ]
  },
  {
   "cell_type": "code",
   "execution_count": null,
   "id": "10122249-24ac-4d81-8809-9232046dabeb",
   "metadata": {},
   "outputs": [],
   "source": []
  }
 ],
 "metadata": {
  "kernelspec": {
   "display_name": "Python",
   "language": "python",
   "name": "conda-env-python-py"
  },
  "language_info": {
   "codemirror_mode": {
    "name": "ipython",
    "version": 3
   },
   "file_extension": ".py",
   "mimetype": "text/x-python",
   "name": "python",
   "nbconvert_exporter": "python",
   "pygments_lexer": "ipython3",
   "version": "3.7.12"
  }
 },
 "nbformat": 4,
 "nbformat_minor": 5
}
