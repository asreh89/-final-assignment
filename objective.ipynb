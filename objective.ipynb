{
 "cells": [
  {
   "cell_type": "markdown",
   "id": "cc6f87cd-cc56-4795-9e26-8629e7976fd2",
   "metadata": {},
   "source": [
    "## Objectives\n",
    "\n",
    "In this notebook, we aim to:\n",
    "\n",
    "1. Explore fundamental arithmetic operations and their applications in data science.\n",
    "2. Learn how to manipulate and convert data using basic mathematical expressions.\n",
    "3. Understand the usage of common data science libraries and tools for analysis and computation.\n",
    "4. Develop problem-solving skills through practical coding examples and exercises.\n",
    "5. Build familiarity with converting units and applying mathematical concepts to real-world data.\n"
   ]
  },
  {
   "cell_type": "code",
   "execution_count": null,
   "id": "758885a4-0b0a-4c9e-b09b-bea984bbfc78",
   "metadata": {},
   "outputs": [],
   "source": []
  }
 ],
 "metadata": {
  "kernelspec": {
   "display_name": "Python",
   "language": "python",
   "name": "conda-env-python-py"
  },
  "language_info": {
   "codemirror_mode": {
    "name": "ipython",
    "version": 3
   },
   "file_extension": ".py",
   "mimetype": "text/x-python",
   "name": "python",
   "nbconvert_exporter": "python",
   "pygments_lexer": "ipython3",
   "version": "3.7.12"
  }
 },
 "nbformat": 4,
 "nbformat_minor": 5
}
