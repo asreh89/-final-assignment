{
 "cells": [
  {
   "cell_type": "markdown",
   "id": "67beafde-9bb9-4144-a034-1aaf08b6587f",
   "metadata": {},
   "source": [
    "## Arithmetic Expressions in Data Science\n",
    "\n",
    "Arithmetic expressions form the foundation of many data science operations, from basic calculations to complex algorithms. Understanding how to perform these operations is essential for tasks like data manipulation, statistical analysis, and machine learning. Below are some examples of basic arithmetic expressions used in data science, such as addition, subtraction, multiplication, division, and exponentiation.\n"
   ]
  },
  {
   "cell_type": "code",
   "execution_count": null,
   "id": "91710ab8-dc3f-426e-942f-781c37e1e5da",
   "metadata": {},
   "outputs": [],
   "source": []
  }
 ],
 "metadata": {
  "kernelspec": {
   "display_name": "Python",
   "language": "python",
   "name": "conda-env-python-py"
  },
  "language_info": {
   "codemirror_mode": {
    "name": "ipython",
    "version": 3
   },
   "file_extension": ".py",
   "mimetype": "text/x-python",
   "name": "python",
   "nbconvert_exporter": "python",
   "pygments_lexer": "ipython3",
   "version": "3.7.12"
  }
 },
 "nbformat": 4,
 "nbformat_minor": 5
}
