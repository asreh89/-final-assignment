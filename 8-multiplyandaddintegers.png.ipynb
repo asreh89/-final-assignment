{
 "cells": [
  {
   "cell_type": "code",
   "execution_count": 1,
   "id": "6caddb0d-ea8d-4bc0-83b5-815d7489763b",
   "metadata": {
    "tags": []
   },
   "outputs": [
    {
     "data": {
      "text/plain": [
       "34"
      ]
     },
     "execution_count": 1,
     "metadata": {},
     "output_type": "execute_result"
    }
   ],
   "source": [
    "# Multiplication and addition example\n",
    "a = 8\n",
    "b = 4\n",
    "c = 2\n",
    "\n",
    "# Multiply and add\n",
    "result = (a * b) + c\n",
    "result\n"
   ]
  },
  {
   "cell_type": "code",
   "execution_count": null,
   "id": "3cce4ee1-537b-4038-acb6-144c3a81de8e",
   "metadata": {},
   "outputs": [],
   "source": []
  }
 ],
 "metadata": {
  "kernelspec": {
   "display_name": "Python",
   "language": "python",
   "name": "conda-env-python-py"
  },
  "language_info": {
   "codemirror_mode": {
    "name": "ipython",
    "version": 3
   },
   "file_extension": ".py",
   "mimetype": "text/x-python",
   "name": "python",
   "nbconvert_exporter": "python",
   "pygments_lexer": "ipython3",
   "version": "3.7.12"
  }
 },
 "nbformat": 4,
 "nbformat_minor": 5
}
